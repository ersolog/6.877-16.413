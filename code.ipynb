{
 "cells": [
  {
   "cell_type": "code",
   "execution_count": null,
   "metadata": {},
   "outputs": [],
   "source": []
  },
  {
   "cell_type": "code",
   "execution_count": null,
   "metadata": {},
   "outputs": [
    {
     "name": "stdout",
     "output_type": "stream",
     "text": [
      "Collecting matplotlib\n",
      "  Downloading matplotlib-3.5.0-cp37-cp37m-manylinux_2_5_x86_64.manylinux1_x86_64.whl (11.2 MB)\n",
      "\u001b[K     |████████████████████████████████| 11.2 MB 3.7 MB/s eta 0:00:01\n",
      "\u001b[?25hCollecting shapely\n",
      "  Downloading Shapely-1.8.0-cp37-cp37m-manylinux_2_5_x86_64.manylinux1_x86_64.whl (1.1 MB)\n",
      "\u001b[K     |████████████████████████████████| 1.1 MB 30.7 MB/s eta 0:00:01\n",
      "\u001b[?25hCollecting dubins\n",
      "  Downloading dubins-1.0.1.tar.gz (46 kB)\n",
      "\u001b[K     |████████████████████████████████| 46 kB 4.4 MB/s  eta 0:00:01\n",
      "\u001b[?25hCollecting pyyaml\n",
      "  Downloading PyYAML-6.0-cp37-cp37m-manylinux_2_5_x86_64.manylinux1_x86_64.manylinux_2_12_x86_64.manylinux2010_x86_64.whl (596 kB)\n",
      "\u001b[K     |████████████████████████████████| 596 kB 35.3 MB/s eta 0:00:01\n",
      "\u001b[?25hCollecting descartes\n",
      "  Downloading descartes-1.1.0-py3-none-any.whl (5.8 kB)\n",
      "Requirement already satisfied: python-dateutil>=2.7 in /srv/conda/envs/notebook/lib/python3.7/site-packages (from matplotlib) (2.8.2)\n",
      "Collecting kiwisolver>=1.0.1\n",
      "  Downloading kiwisolver-1.3.2-cp37-cp37m-manylinux_2_5_x86_64.manylinux1_x86_64.whl (1.1 MB)\n",
      "\u001b[K     |████████████████████████████████| 1.1 MB 43.7 MB/s eta 0:00:01\n",
      "\u001b[?25hRequirement already satisfied: pyparsing>=2.2.1 in /srv/conda/envs/notebook/lib/python3.7/site-packages (from matplotlib) (2.4.7)\n",
      "Requirement already satisfied: packaging>=20.0 in /srv/conda/envs/notebook/lib/python3.7/site-packages (from matplotlib) (21.0)\n",
      "Collecting cycler>=0.10\n",
      "  Downloading cycler-0.11.0-py3-none-any.whl (6.4 kB)\n",
      "Collecting fonttools>=4.22.0\n",
      "  Downloading fonttools-4.28.1-py3-none-any.whl (873 kB)\n",
      "\u001b[K     |████████████████████████████████| 873 kB 19.0 MB/s eta 0:00:01\n",
      "\u001b[?25hCollecting numpy>=1.17\n",
      "  Downloading numpy-1.21.4-cp37-cp37m-manylinux_2_12_x86_64.manylinux2010_x86_64.whl (15.7 MB)\n",
      "\u001b[K     |████████████████████████████████| 15.7 MB 14.9 MB/s eta 0:00:01\n",
      "\u001b[?25hCollecting setuptools-scm>=4\n",
      "  Downloading setuptools_scm-6.3.2-py3-none-any.whl (33 kB)\n",
      "Collecting pillow>=6.2.0\n",
      "  Downloading Pillow-8.4.0-cp37-cp37m-manylinux_2_17_x86_64.manylinux2014_x86_64.whl (3.1 MB)\n",
      "\u001b[K     |████████████████████████████████| 3.1 MB 40.7 MB/s eta 0:00:01\n",
      "\u001b[?25hRequirement already satisfied: six>=1.5 in /srv/conda/envs/notebook/lib/python3.7/site-packages (from python-dateutil>=2.7->matplotlib) (1.16.0)\n",
      "Collecting tomli>=1.0.0\n",
      "  Downloading tomli-1.2.2-py3-none-any.whl (12 kB)\n",
      "Requirement already satisfied: setuptools in /srv/conda/envs/notebook/lib/python3.7/site-packages (from setuptools-scm>=4->matplotlib) (58.2.0)\n",
      "Building wheels for collected packages: dubins\n",
      "  Building wheel for dubins (setup.py) ... \u001b[?25ldone\n",
      "\u001b[?25h  Created wheel for dubins: filename=dubins-1.0.1-cp37-cp37m-linux_x86_64.whl size=120694 sha256=aeb9c262120355616b1239e2292bf0ba802bd2f561d0f307224376ffabeb74eb\n",
      "  Stored in directory: /home/jovyan/.cache/pip/wheels/7e/1d/e3/b9c5ecd7b32c2ed9073c61d5d727ed21b874059958bb178fae\n",
      "Successfully built dubins\n",
      "Installing collected packages: tomli, setuptools-scm, pillow, numpy, kiwisolver, fonttools, cycler, matplotlib, shapely, pyyaml, dubins, descartes\n",
      "Successfully installed cycler-0.11.0 descartes-1.1.0 dubins-1.0.1 fonttools-4.28.1 kiwisolver-1.3.2 matplotlib-3.5.0 numpy-1.21.4 pillow-8.4.0 pyyaml-6.0 setuptools-scm-6.3.2 shapely-1.8.0 tomli-1.2.2\n"
     ]
    }
   ],
   "source": [
    "!pip3 install matplotlib shapely dubins pyyaml descartes"
   ]
  },
  {
   "cell_type": "code",
   "execution_count": null,
   "metadata": {},
   "outputs": [
    {
     "name": "stdout",
     "output_type": "stream",
     "text": [
      "The autoreload extension is already loaded. To reload it, use:\n",
      "  %reload_ext autoreload\n"
     ]
    }
   ],
   "source": [
    "from __future__ import division\n",
    "\n",
    "%load_ext autoreload\n",
    "%autoreload 2\n",
    "%matplotlib inline\n",
    "from matplotlib import pyplot as plt\n",
    "import numpy as np\n",
    "from shapely.geometry import Point, Polygon, LineString, box\n",
    "from environment import Environment, plot_environment, plot_line, plot_poly\n",
    "\n",
    "import dubins\n",
    "import heapq\n",
    "import random\n",
    "from search_classes import *"
   ]
  },
  {
   "cell_type": "markdown",
   "metadata": {},
   "source": [
    "# Motion Planning with Dynamic Constraints"
   ]
  },
  {
   "cell_type": "markdown",
   "metadata": {},
   "source": [
    "The mad bomber from the 1994 movie Speed (https://www.youtube.com/watch?v=8piqd2BWeGI) strikes again! There's a bomb under the commuter bus that will explode if the bus goes under 50 mph. In order to detonate the bomb, the bus has to meet the bomb squad at the airport without stopping or hitting any obstacles on the way. Luckily, the bus happens to be an autonomous vehicle capable of performing motion planning.\n",
    "\n",
    "We'll be solving this problem using the following methods: A* search, Constrained RRT and RRT*.\n"
   ]
  },
  {
   "cell_type": "markdown",
   "metadata": {},
   "source": [
    "## Map and Obstacle Constraints\n",
    "![map_motion](map.PNG)\n",
    "\n",
    "Below is code that creates an easy and hard environment of Los Angeles, where the purple polygons represents landmarks/buildings. The green polygon represents the airport."
   ]
  },
  {
   "cell_type": "code",
   "execution_count": null,
   "metadata": {},
   "outputs": [
    {
     "name": "stdout",
     "output_type": "stream",
     "text": [
      "(-5, -4, 15, 5)\n",
      "(12.101998895874736, 5.5)\n"
     ]
    },
    {
     "name": "stderr",
     "output_type": "stream",
     "text": [
      "/srv/conda/envs/notebook/lib/python3.7/site-packages/descartes/patch.py:65: ShapelyDeprecationWarning: The array interface is deprecated and will no longer work in Shapely 2.0. Convert the '.coords' to a numpy array instead.\n",
      "  for t in polygon])\n"
     ]
    },
    {
     "data": {
      "image/png": "[encoded data removed]",
      "text/plain": [
       "<Figure size 871.344x396 with 1 Axes>"
      ]
     },
     "metadata": {
      "needs_background": "light"
     },
     "output_type": "display_data"
    }
   ],
   "source": [
    "def random_environment(bounds, start, radius, goal, n, size_limits=(0.5, 1.5)):\n",
    "    minx, miny, maxx, maxy = bounds\n",
    "    print(bounds)\n",
    "    edges = 4\n",
    "    minl, maxl = size_limits\n",
    "    env = Environment(None)\n",
    "    obs = []\n",
    "    start_pose = Point(start).buffer(radius, resolution=3)\n",
    "    obi = 0\n",
    "    while obi < n:\n",
    "        r = np.random.uniform(low=0.0, high=1.0, size=2)\n",
    "        xy = np.array([minx + (maxx-minx)*r[0], miny + (maxy-miny)*r[1]])\n",
    "        \n",
    "        angles = np.random.rand(edges)\n",
    "        angles = angles*2*np.pi / np.sum(angles)\n",
    "        for i in range(1,len(angles)):\n",
    "            angles[i] = angles[i-1] + angles[i]\n",
    "        angles = 2*np.pi * angles / angles[-1] \n",
    "        angles = angles + 2*np.pi*np.random.rand()\n",
    "        lengths = 0.5*minl + (maxl-minl) * 0.5 * np.random.rand(edges)\n",
    "        xx = xy[0] + np.array([l*np.cos(a) for a,l in zip(angles,lengths)])\n",
    "        yy = xy[1] + np.array([l*np.sin(a) for a,l in zip(angles,lengths)])\n",
    "        p = Polygon([(x,y) for x,y in zip(xx,yy)])\n",
    "        if p.intersects(start_pose) or p.intersects(goal):\n",
    "            continue\n",
    "        else:\n",
    "            obi = obi + 1\n",
    "            obs.append(p)\n",
    "#         coords = xy + [l*np.cos(a),l*np.sin(a) for a,l in zip(angles,lengths)]\n",
    "    env.add_obstacles(obs)\n",
    "    return env\n",
    "\n",
    "start = (-4,-2)\n",
    "radius = 0.1\n",
    "goal_region = Polygon([(12,3), (12,4), (13,4),(13,3)])\n",
    "bounds = (-5, -4, 15, 5)\n",
    "roadmap_env = random_environment(bounds, start, radius, goal_region, 80, (0.2, 0.4))\n",
    "ax = plot_environment(roadmap_env)\n",
    "plot_poly(ax, goal_region,'green')\n"
   ]
  },
  {
   "cell_type": "markdown",
   "metadata": {},
   "source": [
    "TODO: Describe map?"
   ]
  },
  {
   "cell_type": "markdown",
   "metadata": {},
   "source": [
    "## Bus Motion Constraints"
   ]
  },
  {
   "cell_type": "markdown",
   "metadata": {},
   "source": [
    "![bus_motion](car_motion.png)"
   ]
  },
  {
   "cell_type": "markdown",
   "metadata": {},
   "source": [
    "Because the car has wheels that steer in either direction, we constrain its motion to arcs, specifically a Dubins path. Given the direction of the bus (in the image above, it's facing north), we can parametrize the range of its motion with $D$ degrees, which is the arc that it can forward in, and $R$, the turning radius. The state of the car will be represented as a tuple of length 3: (x coordinate, y coordinate, pose/direction).\n",
    "\n",
    "In the image above, there are three different examples of the bus at possible states. When the bus is at the bottom-most state, the green area represents feasible states it can move to, and the red areas represent states that it cannot move to."
   ]
  },
  {
   "cell_type": "markdown",
   "metadata": {},
   "source": [
    "## Literature Review"
   ]
  },
  {
   "cell_type": "markdown",
   "metadata": {},
   "source": [
    "We used the following resources to get more information on Dubins paths and how to handle the kinematic constraints of the bus.\n",
    "- https://www.cs.cmu.edu/~motionplanning/lecture/lec21.pdf\n",
    "- https://ieeexplore.ieee.org/stamp/stamp.jsp?arnumber=9196964&tag=1"
   ]
  },
  {
   "cell_type": "markdown",
   "metadata": {},
   "source": [
    "## Planning with Motion Primitives\n",
    "\n",
    "One way to solve our motion planning problem is search. In order to take into consideration our constraints, we need to be careful about how we discretize our search space. A naive approach would simply divide the free configuration space into a grid. However, when we search this grid, we might create an infeasable path. The bus cannot drive backwards due to its constant speed. Similarly, the bus cannot reach the cell directly to the left and right.\n",
    "\n",
    "A better discretization method would be to select from a precomputed list of \"motion primitives.\" These are a list of actions from any state to a limited set of reachable states. This results in a tree starting at the first pose where the nodes are reachable states and the edges are actions the bus can take between those states. The number of actions in the motion primitive library are the branching factor for this tree. Nodes are pruned if the edge intersects an obstacle and A* is used to search the tree."
   ]
  },
  {
   "cell_type": "markdown",
   "metadata": {},
   "source": [
    "### Building the motion library  \n",
    "We can build the motion primitives by calculating a series of dubins curves starting at the origin and ending at evenly spaced endpoints. These compiled actions will serve as the edges between poses in the search tree. The dubins library for python allows us to easily compute a dubins curve between two points."
   ]
  },
  {
   "cell_type": "code",
   "execution_count": null,
   "metadata": {},
   "outputs": [],
   "source": [
    "def build_motion_library(sample_distance, angle_envelope, turning_radius, num_points, step_size = 0.01):\n",
    "    motion_library = {} # format {weight : [path]}\n",
    "    \n",
    "    angle_step = 2*angle_envelope/num_points\n",
    "    for angle in np.arange(-angle_envelope, angle_envelope + angle_step, step_size):\n",
    "        q0 = (0,0,0)\n",
    "        q1 = (np.cos(angle)*sample_distance, np.sin(angle)*sample_distance, angle)\n",
    "        path = dubins.shortest_path(q0, q1, turning_radius)\n",
    "        configuations, _ = path.sample_many(step_size)\n",
    "        motion_library[angle] = configuations\n",
    "    return motion_library"
   ]
  },
  {
   "cell_type": "code",
   "execution_count": null,
   "metadata": {},
   "outputs": [
    {
     "data": {
      "image/png": "[encoded data removed]",
      "text/plain": [
       "<Figure size 432x288 with 1 Axes>"
      ]
     },
     "metadata": {
      "needs_background": "light"
     },
     "output_type": "display_data"
    }
   ],
   "source": [
    "sample_distance = 0.5\n",
    "turning_radius = np.pi/20\n",
    "num_points = 10\n",
    "angle_envelope = np.pi/4\n",
    "motion_library = build_motion_library(sample_distance, angle_envelope, turning_radius, num_points)\n",
    "plt.axis([-sample_distance*1.1, sample_distance*1.1, -sample_distance*0.1, sample_distance*1.1])\n",
    "plt.plot([0],[0], 'ro' )\n",
    "for motion in motion_library:\n",
    "    path = motion_library[motion]\n",
    "    x = [i[0] for i in path]\n",
    "    y = [i[1] for i in path]\n",
    "    last_pt = path[-1]\n",
    "    plt.arrow(last_pt[1], last_pt[0],\n",
    "              np.sin(last_pt[2])*sample_distance/10, np.cos(last_pt[2])*sample_distance/10,\n",
    "              color='red', head_width = 0.01)\n",
    "    plt.plot(y,x)\n",
    "plt.show()"
   ]
  },
  {
   "cell_type": "markdown",
   "metadata": {},
   "source": [
    "### Searching the tree"
   ]
  },
  {
   "cell_type": "code",
   "execution_count": null,
   "metadata": {},
   "outputs": [],
   "source": [
    "# check all the points along the path for collisions with the polygons in map\n",
    "radius = 0.2\n",
    "def checkNoCollision(path, env):\n",
    "    for pose in path:\n",
    "        object = Point(pose[0:2]).buffer(radius, resolution=3)\n",
    "        for obstacle in env.obstacles:\n",
    "            if object.intersects(obstacle):\n",
    "                return False\n",
    "    return True\n",
    "\n",
    "def dist_to_goal(pose, goal):\n",
    "    return np.sqrt((pose[0]-goal[0])**2 + (pose[1]-goal[1])**2)\n",
    "\n",
    "def expand_node(node, motion_library, world):\n",
    "    start_pt = node.state\n",
    "    for motion in motion_library.values():\n",
    "        extension = [(start_pt[0] + m[0], start_pt[1] + m[1], start_pt[2] + m[2]) in motion]\n",
    "        if checkNoCollision(extension, world):\n",
    "            yield SearchNode(extension[-1], node.cost+)\n",
    "\n",
    "# Use the motion library to search for the goal with a euclidean distance heuristic\n",
    "def search(start_pose, goal_region, motion_libary):\n",
    "    motions = [i for i in motion_libary]\n",
    "    goal_center = goal_region.centroid\n",
    "    startNode = SearchNode(start_pose)\n",
    "    q = []\n",
    "    heappush(q, (startNode.cost + h(startNode), SearchNode(start_pose, ), h)\n",
    "    \n",
    "    expanded = set([problem.start])\n",
    "#     expanded = set()\n",
    "    max_q = 1\n",
    "    path = list()\n",
    "    while q:\n",
    "        # YOUR CODE HERE\n",
    "        node = q.pop()\n",
    "        if len(q) > max_q:\n",
    "            max_q = len(q)\n",
    "        if problem.test_goal(node.state):\n",
    "            return Path(node), len(expanded), max_q\n",
    "\n",
    "        if node in q:\n",
    "            if q[node].cost > node.cost:\n",
    "                del q[node]\n",
    "                q.append(node)\n",
    "            else:\n",
    "                continue\n",
    "        \n",
    "        expanded.add(node)\n",
    "        for neighbor in problem.expand_node(node):\n",
    "            if neighbor not in expanded:\n",
    "                q.append(neighbor)"
   ]
  },
  {
   "cell_type": "markdown",
   "metadata": {},
   "source": [
    "## RRT with Kinematic Constraints"
   ]
  },
  {
   "cell_type": "markdown",
   "metadata": {},
   "source": [
    "Discretizing the range of motion for the bus creates a tree with exponential size, and unfortunately, the bomb will detonate sooner than expected. Therefore, we need an algorithm that can plan a path to the airport, even if suboptimal, in a shorter amount of time. Instead of splitting the sample space into intervals, we consider Rapidly-exploring Random Trees (RRT), to explore the space more efficiently.\n",
    "\n",
    "However, the main issue here is that if we sample a point anywhere in the environment, there is a chance that it is not reachable from the car's current location and pose via a linear path. Also, due to the bus's limited range of motion, we want to accomodate for those kinematics. Therefore, we propose the following pseudocode, which modifies the linear nature of traditional RRT:\n",
    "\n",
    "- Sample randomly from the enviroment\n",
    "- Find the closest point in the tree to the sampled point\n",
    "- Draw a dublin path between the randomly sampled point and the neighboring point\n",
    "    - If it hits an obstacle, then we resample\n",
    "- If there's no obstacle in the way, then we add the sampled point to the tree\n",
    "    - We will have a max length $L$, so we will cut the path off at $L$ if it is longer than $L$, and add the point at which the path is cut off to the tree instead\n",
    "    - Note: the dublin path will essentially be in a 3D space because we have three parameters (x, y, pose)\n"
   ]
  },
  {
   "cell_type": "code",
   "execution_count": 7,
   "metadata": {},
   "outputs": [],
   "source": [
    "def rrt(bounds, environment, start_pose, radius, end_region, step_size=0.01, turning_radius = np.pi/20):    \n",
    "    def sample():\n",
    "        \n",
    "        \n",
    "    def nearest_neighbor(vertices, rand):\n",
    "        min_dist = float('inf')\n",
    "        closest_point = None\n",
    "        path_from_closest = None\n",
    "        for v in vertices:\n",
    "            path = dubins.shortest_path(v, rand, turning_radius)\n",
    "            if path.path_length < min_dist:\n",
    "                closest_point = v\n",
    "                path_from_closest = path\n",
    "                min_dist = path.path_length\n",
    "        # Return closest neighbor, the path from the closest neighbor to the sample point, and the configuration\n",
    "        configuations, _ = path_from_closest.sample_many(step_size)\n",
    "        return closest_point, path_from_closest, configurations\n",
    "    \n",
    "    def steer(nearest, rand, d):\n",
    "        dist = np.sqrt((nearest[0]-rand[0])**2 + (nearest[1]-rand[1])**2)\n",
    "        if dist < d:\n",
    "            return rand\n",
    "        else:\n",
    "            new_x = nearest[0] + (rand[0] - nearest[0]) * d/dist\n",
    "            new_y = nearest[1] + (rand[1] - nearest[1]) * d/dist\n",
    "            return (new_x, new_y)\n",
    "    \n",
    "    def construct_path(vertices, edges, end_pt):\n",
    "        path = [end_pt]\n",
    "        while path[0] != start_pose:\n",
    "            for edge in edges:\n",
    "                if edge[1] == path[0]:\n",
    "                    path = [edge[0]] + path\n",
    "                    break\n",
    "        return path\n",
    "        \n",
    "    vertices = {start_pose}\n",
    "    edges = set()\n",
    "    d = 0.3\n",
    "    ax = plot_environment(environment)\n",
    "#     ax.set_xlim([bounds[0], bounds[2]])\n",
    "#     ax.set_ylim([bounds[1], bounds[3]])\n",
    "#     ax.set_aspect('equal', adjustable='box')\n",
    "    plot_poly(ax, end_region, \"green\")\n",
    "    while True: \n",
    "        # Sample a random point within the bounds of the environment\n",
    "        rand_pt = (random.uniform(bounds[0], bounds[2]), random.uniform(bounds[1], bounds[3]))\n",
    "        nearest, path, path_points = nearest_neighbor(vertices, rand_pt, turning_radius)\n",
    "        new_pt = steer(nearest, rand_pt, d)\n",
    "        \n",
    "        #We use the function from A* Search to check for obstacles\n",
    "        if checkNoCollision(path_points, env):\n",
    "            vertices.add(new_pt)\n",
    "            edges.add((nearest, new_pt))\n",
    "            ax.plot([nearest[0], new_pt[0]], [nearest[1], new_pt[1]], \n",
    "                            color='gray', linewidth=1, solid_capstyle='round', zorder=1)\n",
    "            if end_region.contains(Point(new_pt)):\n",
    "                path = construct_path(vertices, edges, new_pt)\n",
    "                path_len = 0\n",
    "                for i in range(len(path)-1):\n",
    "                    ax.plot([path[i][0], path[i+1][0]], [path[i][1], path[i+1][1]],\n",
    "                            color='red', linewidth=1, solid_capstyle='round', zorder=1)\n",
    "                    path_len += np.sqrt((path[i][0]-path[i+1][0])**2 + (path[i][1]-path[i+1][1])**2)\n",
    "                ax.set_title(f\"Nodes in tree: {len(vertices)}, Nodes in solution path: {len(path)}, Path length: {path_len}\")\n",
    "                return path\n",
    "    "
   ]
  },
  {
   "cell_type": "markdown",
   "metadata": {},
   "source": [
    "## Goal-directed Sampling"
   ]
  },
  {
   "cell_type": "markdown",
   "metadata": {},
   "source": [
    "Since the autonomous bus has information about the area and knows where the goal state is, we implement a heuristic in the random sampling to find the airport faster. Essentially, with probability $p$, the algorithm will explore a new offshoot of the tree by randomly sampling. With probability $1-p$, the algorithm will sample in the direction and general location of the goal state. This way, we can exploit knowing the goal state while also exploring other parts of the environment."
   ]
  },
  {
   "cell_type": "code",
   "execution_count": null,
   "metadata": {},
   "outputs": [],
   "source": [
    "def RRT_goal_directed():\n",
    "    p = 0.7 # p = 1 would be the same as the normal RRT implemented above\n",
    "    \n",
    "    if random() > p:\n",
    "        # Algorithm samples towards the goal\n",
    "    else:\n",
    "        # Standard RRR\n",
    "    "
   ]
  },
  {
   "cell_type": "markdown",
   "metadata": {},
   "source": [
    "## RRT*"
   ]
  },
  {
   "cell_type": "markdown",
   "metadata": {},
   "source": [
    "RRT* is an optimized version of RRT. The main difference is that every time we obtain a new point, we must check to see whether the paths of other nodes can be reduced by going through the new point. If so, we have to update our graph. Like RRT, we will be using the dubin library for path generation. "
   ]
  },
  {
   "cell_type": "code",
   "execution_count": null,
   "metadata": {},
   "outputs": [],
   "source": [
    "def RRT_star(bounds, environment, start_pose, radius, end_region, N):\n",
    "    \"\"\"\n",
    "    Runs like RRT except it considers minimum cost paths and changes tree structure\n",
    "    \"\"\"\n",
    "    \n",
    "    rad = r\n",
    "    \n",
    "    def sample_free():\n",
    "        pass\n",
    "    \n",
    "    def get_nearest():\n",
    "        pass\n",
    "    \n",
    "    def steer():\n",
    "        pass\n",
    "    \n",
    "    def obstacle_free(x_nearest, x_new):\n",
    "        pass\n",
    "    \n",
    "        \n",
    "    def rewire():\n",
    "        pass\n",
    "    \n",
    "    V = {start_pose}\n",
    "    E = set()\n",
    "    C = {start_pose: 0}\n",
    "    \n",
    "    for i in range(N):\n",
    "        x_new = sample_free()\n",
    "        if not obstacle_free():\n",
    "            x_nearest = get_nearest()\n",
    "            C[x_new] = calc_dist(x_new, x_nearest)\n",
    "            x_best, x_neighbors = find_neighbors(V, E, x_new, rad)\n",
    "            for x_prime in x_neighbors:\n",
    "                if C[x_new] + calc_dist(x_new, x_prime) < C[x_prime]:\n",
    "                    C[x_prime] = C[x_new] + calc_dist(x_new, x_prime)\n",
    "                    \n",
    "        # x_rand = random point\n",
    "        # use dubins to generate path between x_rand and bus\n",
    "        \n",
    "        # connect along minimum cost path\n",
    "        \n",
    "        # rewire the tree if paths with lower costs exist\n",
    "        "
   ]
  },
  {
   "cell_type": "code",
   "execution_count": null,
   "metadata": {},
   "outputs": [],
   "source": []
  }
 ],
 "metadata": {
  "kernelspec": {
   "display_name": "Python 3 (ipykernel)",
   "language": "python",
   "name": "python3"
  },
  "language_info": {
   "codemirror_mode": {
    "name": "ipython",
    "version": 3
   },
   "file_extension": ".py",
   "mimetype": "text/x-python",
   "name": "python",
   "nbconvert_exporter": "python",
   "pygments_lexer": "ipython3",
   "version": "3.7.10"
  }
 },
 "nbformat": 4,
 "nbformat_minor": 4
}
