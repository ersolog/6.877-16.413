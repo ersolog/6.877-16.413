{
 "cells": [
  {
   "cell_type": "code",
   "execution_count": 14,
   "metadata": {},
   "outputs": [
    {
     "name": "stdout",
     "output_type": "stream",
     "text": [
      "Requirement already satisfied: matplotlib in /srv/conda/envs/notebook/lib/python3.7/site-packages (3.4.3)\n",
      "Requirement already satisfied: shapely in /srv/conda/envs/notebook/lib/python3.7/site-packages (1.8.0)\n",
      "Requirement already satisfied: dubins in /srv/conda/envs/notebook/lib/python3.7/site-packages (1.0.1)\n",
      "Requirement already satisfied: pyyaml in /srv/conda/envs/notebook/lib/python3.7/site-packages (6.0)\n",
      "Collecting descartes\n",
      "  Downloading descartes-1.1.0-py3-none-any.whl (5.8 kB)\n",
      "Requirement already satisfied: cycler>=0.10 in /srv/conda/envs/notebook/lib/python3.7/site-packages (from matplotlib) (0.11.0)\n",
      "Requirement already satisfied: kiwisolver>=1.0.1 in /srv/conda/envs/notebook/lib/python3.7/site-packages (from matplotlib) (1.3.2)\n",
      "Requirement already satisfied: numpy>=1.16 in /srv/conda/envs/notebook/lib/python3.7/site-packages (from matplotlib) (1.21.4)\n",
      "Requirement already satisfied: pillow>=6.2.0 in /srv/conda/envs/notebook/lib/python3.7/site-packages (from matplotlib) (8.4.0)\n",
      "Requirement already satisfied: python-dateutil>=2.7 in /srv/conda/envs/notebook/lib/python3.7/site-packages (from matplotlib) (2.8.2)\n",
      "Requirement already satisfied: pyparsing>=2.2.1 in /srv/conda/envs/notebook/lib/python3.7/site-packages (from matplotlib) (2.4.7)\n",
      "Requirement already satisfied: six>=1.5 in /srv/conda/envs/notebook/lib/python3.7/site-packages (from python-dateutil>=2.7->matplotlib) (1.16.0)\n",
      "Installing collected packages: descartes\n",
      "Successfully installed descartes-1.1.0\n"
     ]
    }
   ],
   "source": [
    "!pip3 install matplotlib shapely dubins pyyaml descartes"
   ]
  },
  {
   "cell_type": "code",
   "execution_count": 15,
   "metadata": {},
   "outputs": [
    {
     "name": "stdout",
     "output_type": "stream",
     "text": [
      "The autoreload extension is already loaded. To reload it, use:\n",
      "  %reload_ext autoreload\n"
     ]
    }
   ],
   "source": [
    "from __future__ import division\n",
    "\n",
    "%load_ext autoreload\n",
    "%autoreload 2\n",
    "%matplotlib inline\n",
    "from matplotlib import pyplot as plt\n",
    "import numpy as np\n",
    "from shapely.geometry import Point, Polygon, LineString, box\n",
    "from environment import Environment, plot_environment, plot_line, plot_poly\n",
    "\n",
    "import dubins"
   ]
  },
  {
   "cell_type": "markdown",
   "metadata": {},
   "source": [
    "# Motion Planning with Dynamic Constraints"
   ]
  },
  {
   "cell_type": "markdown",
   "metadata": {},
   "source": [
    "The mad bomber from the 1994 movie Speed (https://www.youtube.com/watch?v=8piqd2BWeGI) strikes again! There's a bomb under the commuter bus that will explode if the bus goes under 50 mph. In order to detonate the bomb, the bus has to meet the bomb squad at the airport without stopping or hitting any obstacles on the way. Luckily, the bus happens to be an autonomous vehicle capable of performing motion planning.\n",
    "\n",
    "We'll be solving this problem using the following methods: A* search, Constrained RRT and RRT*.\n"
   ]
  },
  {
   "cell_type": "markdown",
   "metadata": {},
   "source": [
    "## Map and Obstacle Constraints\n",
    "![map_motion](map.PNG)\n",
    "\n",
    "Below is code that creates an easy and hard environment of Los Angeles, where the purple polygons represents landmarks/buildings. The green polygon represents the airport."
   ]
  },
  {
   "cell_type": "code",
   "execution_count": null,
   "metadata": {},
   "outputs": [],
   "source": [
    "def random_environment(bounds, start, radius, goal, n, size_limits=(0.5, 1.5)):\n",
    "    minx, miny, maxx, maxy = bounds\n",
    "    print(bounds)\n",
    "    edges = 4\n",
    "    minl, maxl = size_limits\n",
    "    env = Environment(None)\n",
    "    obs = []\n",
    "    start_pose = Point(start).buffer(radius, resolution=3)\n",
    "    obi = 0\n",
    "    while obi < n:\n",
    "        r = np.random.uniform(low=0.0, high=1.0, size=2)\n",
    "        xy = np.array([minx + (maxx-minx)*r[0], miny + (maxy-miny)*r[1]])\n",
    "        \n",
    "        angles = np.random.rand(edges)\n",
    "        angles = angles*2*np.pi / np.sum(angles)\n",
    "        for i in range(1,len(angles)):\n",
    "            angles[i] = angles[i-1] + angles[i]\n",
    "        angles = 2*np.pi * angles / angles[-1] \n",
    "        angles = angles + 2*np.pi*np.random.rand()\n",
    "        lengths = 0.5*minl + (maxl-minl) * 0.5 * np.random.rand(edges)\n",
    "        xx = xy[0] + np.array([l*np.cos(a) for a,l in zip(angles,lengths)])\n",
    "        yy = xy[1] + np.array([l*np.sin(a) for a,l in zip(angles,lengths)])\n",
    "        p = Polygon([(x,y) for x,y in zip(xx,yy)])\n",
    "        if p.intersects(start_pose) or p.intersects(goal):\n",
    "            continue\n",
    "        else:\n",
    "            obi = obi + 1\n",
    "            obs.append(p)\n",
    "#         coords = xy + [l*np.cos(a),l*np.sin(a) for a,l in zip(angles,lengths)]\n",
    "    env.add_obstacles(obs)\n",
    "    return env\n",
    "start = (-4,-2)\n",
    "radius = 0.1\n",
    "goal_region = Polygon([(12,3), (12,4), (13,4),(13,3)])\n",
    "bounds = (-5, -4, 15, 5)\n",
    "env = random_environment(bounds, start, radius, goal_region, 30, (0.2, 0.4))\n",
    "ax = plot_environment(env)\n",
    "plot_poly(ax, goal_region,'green')\n",
    "\n",
    "\n",
    "start = (-4,-2)\n",
    "radius = 0.1\n",
    "goal_region = Polygon([(12,3), (12,4), (13,4),(13,3)])\n",
    "bounds = (-5, -4, 15, 5)\n",
    "env = random_environment(bounds, start, radius, goal_region, 80, (0.2, 0.4))\n",
    "ax = plot_environment(env)\n",
    "plot_poly(ax, goal_region,'green')\n"
   ]
  },
  {
   "cell_type": "markdown",
   "metadata": {},
   "source": [
    "## Bus Motion Constraints"
   ]
  },
  {
   "cell_type": "markdown",
   "metadata": {},
   "source": [
    "![bus_motion](car_motion.png)"
   ]
  },
  {
   "cell_type": "markdown",
   "metadata": {},
   "source": [
    "Because the car has wheels that steer in either direction, we constrain its motion to arcs, specifically a Dubins path. Given the direction of the bus (in the image above, it's facing north), we can parametrize the range of its motion with $D$ degrees, which is the arc that it can forward in, and $R$, the turning radius. The state of the car will be represented as a tuple of length 3: (x coordinate, y coordinate, pose/direction).\n",
    "\n",
    "In the image above, there are three different examples of the bus at possible states. When the bus is at the bottom-most state, the green area represents feasible states it can move to, and the red areas represent states that it cannot move to."
   ]
  },
  {
   "cell_type": "markdown",
   "metadata": {},
   "source": [
    "## Planning with Motion Primitives\n",
    "\n",
    "One way to solve our motion planning problem is search. In order to take into consideration our constraints, we need to be careful about how we discretize our search space. A naive approach would simply divide the free configuration space into a grid. However, when we search this grid, we might create an infeasable path. The bus cannot drive backwards due to its constant speed. Similarly, the bus cannot reach the cell directly to the left and right. \n",
    "\n",
    "A better discretization method would be to select from a precomputed list of \"motion primitives.\" These are a list of actions from any state to a set of reachable states. This creates a tree with a root in  the nodes are reachable A larger number of motion primitives result in larger branching factors of the search tree because"
   ]
  },
  {
   "cell_type": "markdown",
   "metadata": {},
   "source": [
    "## RRT with Kinematic Constraints"
   ]
  },
  {
   "cell_type": "markdown",
   "metadata": {},
   "source": [
    "Discretizing the range of motion for the bus creates a tree with exponential size, and unfortunately, the bomb will detonate sooner than expected. Therefore, we need an algorithm that can plan a path to the airport, even if suboptimal, in a shorter amount of time. Instead of splitting the sample space into intervals, we consider Rapidly-exploring Random Trees (RRT), to explore the space more efficiently.\n",
    "\n",
    "However, the main issue here is that if we sample a point anywhere in the environment, there is a chance that it is not reachable from the car's current location and pose via a linear path. Also, due to the bus's limited range of motion, we want to accomodate for those kinematics. Therefore, we propose the following pseudocode, which modifies the linear nature of traditional RRT:\n",
    "\n",
    "- Sample randomly from the enviroment\n",
    "- Find the closest point in the tree to the sampled point\n",
    "- Draw a dublin path between the randomly sampled point and the neighboring point\n",
    "    - If it hits an obstacle, then we resample\n",
    "- If there's no obstacle in the way, then we add the sampled point to the tree\n",
    "    - We will have a max length $L$, so we will cut the path off at $L$ if it is longer than $L$, and add the point at which the path is cut off to the tree instead\n",
    "    - Note: the dublin path will essentially be in a 3D space because we have three parameters (x, y, pose)\n"
   ]
  },
  {
   "cell_type": "code",
   "execution_count": null,
   "metadata": {},
   "outputs": [],
   "source": [
    "def check_obstacle():\n",
    "    \n",
    "def RRT():\n",
    "    "
   ]
  },
  {
   "cell_type": "markdown",
   "metadata": {},
   "source": [
    "## Goal-directed Sampling"
   ]
  },
  {
   "cell_type": "markdown",
   "metadata": {},
   "source": [
    "Since the autonomous bus has information about the area and knows where the goal state is, we implement a heuristic in the random sampling to find the airport faster. Essentially, with probability $p$, the algorithm will explore a new offshoot of the tree by randomly sampling. With probability $1-p$, the algorithm will sample in the direction and general location of the goal state. This way, we can exploit knowing the goal state while also exploring other parts of the environment."
   ]
  },
  {
   "cell_type": "code",
   "execution_count": null,
   "metadata": {},
   "outputs": [],
   "source": [
    "def RRT_goal_directed():\n",
    "    p = 0.7 # p = 1 would be the same as the normal RRT implemented above\n",
    "    \n",
    "    if random() > p:\n",
    "        # Algorithm samples towards the goal\n",
    "    else:\n",
    "        # Standard RRR\n",
    "    "
   ]
  },
  {
   "cell_type": "markdown",
   "metadata": {},
   "source": [
    "## RRT*"
   ]
  },
  {
   "cell_type": "markdown",
   "metadata": {},
   "source": [
    "RRT* is an optimized version of RRT. The main difference is that every time we obtain a new point, we must check to see whether the paths of other nodes can be reduced by going through the new point. If so, we have to update our graph. Like RRT, we will be using the dubin library for path generation. "
   ]
  },
  {
   "cell_type": "code",
   "execution_count": null,
   "metadata": {},
   "outputs": [],
   "source": [
    "def RRT_star(N):\n",
    "    \"\"\"\n",
    "    Runs like RRT except it considers minimum cost paths and changes tree structure\n",
    "    \"\"\"\n",
    "    \n",
    "    V = dict()\n",
    "    E = set()\n",
    "    for i in range(N):\n",
    "        # x_rand = random point\n",
    "        # use dubins to generate path between x_rand and bus\n",
    "        \n",
    "        # connect along minimum cost path\n",
    "        \n",
    "        # rewire the tree if paths with lower costs exist\n",
    "        "
   ]
  },
  {
   "cell_type": "code",
   "execution_count": 18,
   "metadata": {},
   "outputs": [
    {
     "data": {
      "text/plain": [
       "[(1.0, 2.0, 1.0),\n",
       " (1.3620454462036935, 2.337280256022233, 0.5),\n",
       " (1.8365771040969232, 2.4893460489960906, 0.2453562404811206),\n",
       " (2.3216025316138618, 2.6107970047848816, 0.2453562404811206),\n",
       " (2.759792644254954, 2.840671841848695, 0.7329837415798964),\n",
       " (3.0341844572793333, 3.252429062992962, 1.2329837415798965),\n",
       " (3.077578999993752, 3.745330462749405, 1.7329837415798965)]"
      ]
     },
     "execution_count": 18,
     "metadata": {},
     "output_type": "execute_result"
    }
   ],
   "source": [
    "\n",
    "q0 = (1, 2, 1)\n",
    "q1 = (3, 4, 2)\n",
    "turning_radius = 1.0\n",
    "step_size = 0.5\n",
    "\n",
    "path = dubins.shortest_path(q0, q1, turning_radius)\n",
    "configurations, _ = path.sample_many(step_size)\n",
    "configurations"
   ]
  },
  {
   "cell_type": "code",
   "execution_count": null,
   "metadata": {},
   "outputs": [],
   "source": []
  }
 ],
 "metadata": {
  "kernelspec": {
   "display_name": "Python 3 (ipykernel)",
   "language": "python",
   "name": "python3"
  },
  "language_info": {
   "codemirror_mode": {
    "name": "ipython",
    "version": 3
   },
   "file_extension": ".py",
   "mimetype": "text/x-python",
   "name": "python",
   "nbconvert_exporter": "python",
   "pygments_lexer": "ipython3",
   "version": "3.7.10"
  }
 },
 "nbformat": 4,
 "nbformat_minor": 4
}
