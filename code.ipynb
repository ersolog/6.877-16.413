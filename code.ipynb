{
 "cells": [
  {
   "cell_type": "code",
   "execution_count": 27,
   "metadata": {},
   "outputs": [
    {
     "name": "stdout",
     "output_type": "stream",
     "text": [
      "\u001b[33mWARNING: Ignoring invalid distribution -rettytable (/Users/Luke/miniconda3/lib/python3.7/site-packages)\u001b[0m\n",
      "\u001b[33mWARNING: Ignoring invalid distribution -rettytable (/Users/Luke/miniconda3/lib/python3.7/site-packages)\u001b[0m\n",
      "Requirement already satisfied: matplotlib in /Users/Luke/miniconda3/lib/python3.7/site-packages (3.4.3)\n",
      "Requirement already satisfied: shapely in /Users/Luke/miniconda3/lib/python3.7/site-packages (1.7.1)\n",
      "Requirement already satisfied: dubins in /Users/Luke/miniconda3/lib/python3.7/site-packages (1.0.1)\n",
      "Requirement already satisfied: pyyaml in /Users/Luke/miniconda3/lib/python3.7/site-packages (5.4)\n",
      "Requirement already satisfied: descartes in /Users/Luke/miniconda3/lib/python3.7/site-packages (1.1.0)\n",
      "Requirement already satisfied: pillow>=6.2.0 in /Users/Luke/miniconda3/lib/python3.7/site-packages (from matplotlib) (8.3.2)\n",
      "Requirement already satisfied: kiwisolver>=1.0.1 in /Users/Luke/miniconda3/lib/python3.7/site-packages (from matplotlib) (1.3.1)\n",
      "Requirement already satisfied: pyparsing>=2.2.1 in /Users/Luke/miniconda3/lib/python3.7/site-packages (from matplotlib) (2.4.7)\n",
      "Requirement already satisfied: python-dateutil>=2.7 in /Users/Luke/miniconda3/lib/python3.7/site-packages (from matplotlib) (2.8.2)\n",
      "Requirement already satisfied: cycler>=0.10 in /Users/Luke/miniconda3/lib/python3.7/site-packages (from matplotlib) (0.10.0)\n",
      "Requirement already satisfied: numpy>=1.16 in /Users/Luke/miniconda3/lib/python3.7/site-packages (from matplotlib) (1.21.2)\n",
      "Requirement already satisfied: six in /Users/Luke/miniconda3/lib/python3.7/site-packages (from cycler>=0.10->matplotlib) (1.12.0)\n",
      "\u001b[31mERROR: Could not install packages due to an OSError: [Errno 2] No such file or directory: '/Users/Luke/miniconda3/lib/python3.7/site-packages/numpy-1.21.2.dist-info/METADATA'\n",
      "\u001b[0m\n",
      "\u001b[33mWARNING: Ignoring invalid distribution -rettytable (/Users/Luke/miniconda3/lib/python3.7/site-packages)\u001b[0m\n",
      "\u001b[33mWARNING: Ignoring invalid distribution -rettytable (/Users/Luke/miniconda3/lib/python3.7/site-packages)\u001b[0m\n",
      "\u001b[33mWARNING: Ignoring invalid distribution -rettytable (/Users/Luke/miniconda3/lib/python3.7/site-packages)\u001b[0m\n"
     ]
    }
   ],
   "source": [
    "!pip3 install matplotlib shapely dubins pyyaml descartes"
   ]
  },
  {
   "cell_type": "code",
   "execution_count": 28,
   "metadata": {},
   "outputs": [
    {
     "name": "stdout",
     "output_type": "stream",
     "text": [
      "The autoreload extension is already loaded. To reload it, use:\n",
      "  %reload_ext autoreload\n"
     ]
    }
   ],
   "source": [
    "from __future__ import division\n",
    "\n",
    "%load_ext autoreload\n",
    "%autoreload 2\n",
    "%matplotlib inline\n",
    "from matplotlib import pyplot as plt\n",
    "import numpy as np\n",
    "from shapely.geometry import Point, Polygon, LineString, box\n",
    "from shapely.strtree import STRtree\n",
    "from environment import Environment, plot_environment, plot_line, plot_poly\n",
    "\n",
    "import dubins\n",
    "import heapq\n",
    "import random\n",
    "from search_classes import *\n",
    "from utils import *\n",
    "import time"
   ]
  },
  {
   "cell_type": "markdown",
   "metadata": {},
   "source": [
    "# Motion Planning with Dynamic Constraints"
   ]
  },
  {
   "cell_type": "markdown",
   "metadata": {},
   "source": [
    "The mad bomber from the 1994 movie Speed (https://www.youtube.com/watch?v=8piqd2BWeGI) strikes again! There's a bomb under the commuter bus that will explode if the bus goes under 50 mph. In order to detonate the bomb, the bus has to meet the bomb squad at the airport without stopping or hitting any obstacles on the way. Luckily, the bus happens to be an autonomous vehicle capable of performing motion planning.\n",
    "\n",
    "We'll be solving this problem using the following methods: A* search, Constrained RRT and RRT*.\n"
   ]
  },
  {
   "cell_type": "markdown",
   "metadata": {},
   "source": [
    "## Map and Obstacle Constraints\n",
    "![map_motion](map.PNG)\n",
    "\n",
    "Below is code that creates an easy and hard environment of Los Angeles, where the purple polygons represents landmarks/buildings. The green polygon represents the airport."
   ]
  },
  {
   "cell_type": "code",
   "execution_count": 29,
   "metadata": {},
   "outputs": [
    {
     "name": "stdout",
     "output_type": "stream",
     "text": [
      "(-5, -4, 15, 5)\n",
      "(12.063719280734986, 5.5)\n"
     ]
    },
    {
     "data": {
      "image/png": "[encoded data removed]",
      "text/plain": [
       "<Figure size 868.588x396 with 1 Axes>"
      ]
     },
     "metadata": {
      "needs_background": "light"
     },
     "output_type": "display_data"
    }
   ],
   "source": [
    "def random_environment(bounds, start, radius, goal, n, size_limits=(0.5, 1.5)):\n",
    "    minx, miny, maxx, maxy = bounds\n",
    "    print(bounds)\n",
    "    edges = 4\n",
    "    minl, maxl = size_limits\n",
    "    env = Environment(None)\n",
    "    obs = []\n",
    "    start_pose = Point(start).buffer(radius, resolution=3)\n",
    "    obi = 0\n",
    "    while obi < n:\n",
    "        r = np.random.uniform(low=0.0, high=1.0, size=2)\n",
    "        xy = np.array([minx + (maxx-minx)*r[0], miny + (maxy-miny)*r[1]])\n",
    "        \n",
    "        angles = np.random.rand(edges)\n",
    "        angles = angles*2*np.pi / np.sum(angles)\n",
    "        for i in range(1,len(angles)):\n",
    "            angles[i] = angles[i-1] + angles[i]\n",
    "        angles = 2*np.pi * angles / angles[-1] \n",
    "        angles = angles + 2*np.pi*np.random.rand()\n",
    "        lengths = 0.5*minl + (maxl-minl) * 0.5 * np.random.rand(edges)\n",
    "        xx = xy[0] + np.array([l*np.cos(a) for a,l in zip(angles,lengths)])\n",
    "        yy = xy[1] + np.array([l*np.sin(a) for a,l in zip(angles,lengths)])\n",
    "        p = Polygon([(x,y) for x,y in zip(xx,yy)])\n",
    "        if p.intersects(start_pose) or p.intersects(goal):\n",
    "            continue\n",
    "        else:\n",
    "            obi = obi + 1\n",
    "            obs.append(p)\n",
    "#         coords = xy + [l*np.cos(a),l*np.sin(a) for a,l in zip(angles,lengths)]\n",
    "    env.add_obstacles(obs)\n",
    "    return env\n",
    "\n",
    "start = (-4,-2, 2.5)\n",
    "radius = 0.1\n",
    "goal_region = Polygon([(12,3), (12,4), (13,4),(13,3)])\n",
    "bounds = (-5, -4, 15, 5)\n",
    "roadmap_env = random_environment(bounds, start, radius, goal_region, 80, (0.2, 0.4))\n",
    "ax = plot_environment(roadmap_env)\n",
    "plot_poly(ax, goal_region,'green')\n"
   ]
  },
  {
   "cell_type": "markdown",
   "metadata": {},
   "source": [
    "TODO: Describe map?"
   ]
  },
  {
   "cell_type": "code",
   "execution_count": 65,
   "metadata": {},
   "outputs": [],
   "source": [
    "def print_time(func):\n",
    "    start_time = time.time()\n",
    "    result = func()\n",
    "    end_time = time.time()\n",
    "    print(\"duration:\", end_time - start_time,\"s\")\n",
    "    return result"
   ]
  },
  {
   "cell_type": "markdown",
   "metadata": {},
   "source": [
    "## Bus Motion Constraints"
   ]
  },
  {
   "cell_type": "markdown",
   "metadata": {},
   "source": [
    "![bus_motion](car_motion.png)"
   ]
  },
  {
   "cell_type": "markdown",
   "metadata": {},
   "source": [
    "Because the car has wheels that steer in either direction, we constrain its motion to arcs, specifically a Dubins path. Given the direction of the bus (in the image above, it's facing north), we can parametrize the range of its motion with $D$ degrees, which is the arc that it can forward in, and $R$, the turning radius. The state of the car will be represented as a tuple of length 3: (x coordinate, y coordinate, pose/direction).\n",
    "\n",
    "In the image above, there are three different examples of the bus at possible states. When the bus is at the bottom-most state, the green area represents feasible states it can move to, and the red areas represent states that it cannot move to."
   ]
  },
  {
   "cell_type": "markdown",
   "metadata": {},
   "source": [
    "## Literature Review"
   ]
  },
  {
   "cell_type": "markdown",
   "metadata": {},
   "source": [
    "We used the following resources to get more information on Dubins paths and how to handle the kinematic constraints of the bus.\n",
    "- https://www.cs.cmu.edu/~motionplanning/lecture/lec21.pdf\n",
    "- https://ieeexplore.ieee.org/stamp/stamp.jsp?arnumber=9196964&tag=1"
   ]
  },
  {
   "cell_type": "markdown",
   "metadata": {},
   "source": [
    "## Planning with Motion Primitives\n",
    "\n",
    "One way to solve our motion planning problem is search. In order to take into consideration our constraints, we need to be careful about how we discretize our search space. A naive approach would simply divide the free configuration space into a grid. However, when we search this grid, we might create an infeasable path. The bus cannot drive backwards due to its constant speed. Similarly, the bus cannot reach the cell directly to the left and right.\n",
    "\n",
    "A better discretization method would be to select from a precomputed list of \"motion primitives.\" These are a list of actions from any state to a limited set of reachable states. This results in a tree starting at the first pose where the nodes are reachable states and the edges are actions the bus can take between those states. The number of actions in the motion primitive library are the branching factor for this tree. Nodes are pruned if the edge intersects an obstacle and A* is used to search the tree."
   ]
  },
  {
   "cell_type": "markdown",
   "metadata": {},
   "source": [
    "### Building the motion library  \n",
    "We can build the motion primitives by calculating a series of dubins curves starting at the origin and ending at evenly spaced endpoints. These compiled actions will serve as the edges between poses in the search tree. The dubins library for python allows us to easily compute a dubins curve between two points."
   ]
  },
  {
   "cell_type": "code",
   "execution_count": 66,
   "metadata": {},
   "outputs": [],
   "source": [
    "def build_motion_library(sample_distance, angle_envelope, turning_radius, num_points, step_size = 0.01):\n",
    "    motion_library = {} # format {weight : [path]}\n",
    "    \n",
    "    angle_step = 2*angle_envelope/(num_points - 1)\n",
    "    for angle in np.arange(-angle_envelope, angle_envelope + angle_step, angle_step):\n",
    "        q0 = (0,0,0)\n",
    "        q1 = (np.cos(angle)*sample_distance, np.sin(angle)*sample_distance, angle)\n",
    "        path = dubins.shortest_path(q0, q1, turning_radius)\n",
    "        configuations, _ = path.sample_many(step_size)\n",
    "        motion_library[angle] = (path.path_length(), configuations)\n",
    "    return motion_library"
   ]
  },
  {
   "cell_type": "code",
   "execution_count": 67,
   "metadata": {},
   "outputs": [
    {
     "data": {
      "image/png": "[encoded data removed]",
      "text/plain": [
       "<Figure size 432x288 with 1 Axes>"
      ]
     },
     "metadata": {
      "needs_background": "light"
     },
     "output_type": "display_data"
    }
   ],
   "source": [
    "sample_distance = 1\n",
    "# turning_radius = np.pi/40\n",
    "turning_radius = np.pi/10\n",
    "num_points = 5\n",
    "angle_envelope = np.pi/5\n",
    "motion_library = build_motion_library(sample_distance, angle_envelope, turning_radius, num_points)\n",
    "plt.axis([-sample_distance*1.1, sample_distance*1.1, -sample_distance*0.1, sample_distance*1.1])\n",
    "plt.plot([0],[0], 'ro' )\n",
    "for motion in motion_library:\n",
    "    path = motion_library[motion][1]\n",
    "    x = [i[0] for i in path]\n",
    "    y = [i[1] for i in path]\n",
    "    last_pt = path[-1]\n",
    "    plt.arrow(last_pt[1], last_pt[0],\n",
    "              np.sin(last_pt[2])*sample_distance/10, np.cos(last_pt[2])*sample_distance/10,\n",
    "              color='red', head_width = 0.01)\n",
    "    plt.plot(y,x)\n",
    "plt.show()"
   ]
  },
  {
   "cell_type": "markdown",
   "metadata": {},
   "source": [
    "### Searching the tree"
   ]
  },
  {
   "cell_type": "code",
   "execution_count": 70,
   "metadata": {},
   "outputs": [],
   "source": [
    "# check all the points along the path for collisions with the polygons in map\n",
    "# we use a special data structure called strtree provided by shapely to quickly check for collisions\n",
    "def checkNoCollision(path, env):\n",
    "    for pose in path:\n",
    "        point = Point(pose[0:2]).buffer(radius, resolution=3)\n",
    "        # print(env.strtree.query(point))\n",
    "        if len(env.strtree.query(point)) != 0:\n",
    "            return False\n",
    "    return True\n",
    "\n",
    "# this is the heuristic\n",
    "def dist_to_goal(pose, goal):\n",
    "    return np.sqrt((pose[0]-goal[0])**2 + (pose[1]-goal[1])**2)\n",
    "\n",
    "def expand_node(node, motion_library, world):\n",
    "    start_pt = node.state\n",
    "    for motion in motion_library.values():\n",
    "        path = motion[1]\n",
    "        dist = motion[0]\n",
    "        extension = [(start_pt[0] + m[0], start_pt[1] + m[1], start_pt[2] + m[2]) for m in path]\n",
    "        if checkNoCollision(extension, world):\n",
    "            yield SearchNode(extension[-1], node, node.cost+dist, extension)\n",
    "\n",
    "def test_goal(node, goal_region):\n",
    "    point = Point(node[0:2]).buffer(radius, resolution=3)\n",
    "    if goal_region.contains(point):\n",
    "        return True\n",
    "    return False\n",
    "\n",
    "# Use the motion library to search for the goal with a euclidean distance heuristic\n",
    "def search(start_pose, goal_region, motion_libary, world):\n",
    "    motions = [i for i in motion_libary]\n",
    "    goal_center = goal_region.centroid.coords[:][0]\n",
    "    print(goal_center)\n",
    "    startNode = SearchNode(start_pose)\n",
    "\n",
    "    q = PriorityQueue(f=lambda node: dist_to_goal(node.state,goal_center)+node.cost)\n",
    "    q.append(SearchNode(start_pose))\n",
    "    expanded = set([startNode])\n",
    "\n",
    "    max_q = 1\n",
    "    path = list()\n",
    "    iteration_count = 0\n",
    "    while q and iteration_count < 50000:\n",
    "        iteration_count += 1\n",
    "        node = q.pop()\n",
    "        if len(q) > max_q:\n",
    "            max_q = len(q)\n",
    "        if test_goal(node.state, goal_region):\n",
    "            return Path(node), len(expanded), max_q\n",
    "\n",
    "        if node in q:\n",
    "            if q[node].cost > node.cost:\n",
    "                del q[node]\n",
    "                q.append(node)\n",
    "            else:\n",
    "                continue\n",
    "        \n",
    "        expanded.add(node)\n",
    "        for neighbor in expand_node(node, motion_libary, world):\n",
    "            if neighbor not in expanded:\n",
    "                q.append(neighbor)\n",
    "        \n",
    "    return q, expanded, max_q"
   ]
  },
  {
   "cell_type": "code",
   "execution_count": 71,
   "metadata": {},
   "outputs": [
    {
     "name": "stdout",
     "output_type": "stream",
     "text": [
      "(12.5, 3.5)\n",
      "duration: 128.14219188690186 s\n",
      "time elapsed: 128.14281511306763 s\n"
     ]
    }
   ],
   "source": [
    "search_result = print_time(lambda: search(start, goal_region, motion_library, roadmap_env))"
   ]
  },
  {
   "cell_type": "code",
   "execution_count": 74,
   "metadata": {},
   "outputs": [
    {
     "name": "stdout",
     "output_type": "stream",
     "text": [
      "(12.063719280734986, 5.5)\n"
     ]
    },
    {
     "data": {
      "image/png": "[encoded data removed]",
      "text/plain": [
       "<Figure size 868.588x396 with 1 Axes>"
      ]
     },
     "metadata": {
      "needs_background": "light"
     },
     "output_type": "display_data"
    }
   ],
   "source": [
    "ax = plot_environment(roadmap_env)\n",
    "\n",
    "plot_poly(ax, goal_region, \"green\")\n",
    "for node1,node2 in search_result[0].edges():\n",
    "    # print(node1)\n",
    "    ax.plot([node1[0], node2[0]], [node1[1], node2[1]],\n",
    "                            color='red', linewidth=1, solid_capstyle='round', zorder=1)\n"
   ]
  },
  {
   "cell_type": "markdown",
   "metadata": {},
   "source": [
    "The path generated by A* and discretizing the actions takes over several minutes to run. Furthermore, it is stilll very choppy due to the low number of motions being considered by the planner. Clearly, a faster and smoother method is needed to generatee good trajectories."
   ]
  },
  {
   "cell_type": "markdown",
   "metadata": {},
   "source": [
    "## RRT with Kinematic Constraints"
   ]
  },
  {
   "cell_type": "markdown",
   "metadata": {},
   "source": [
    "Discretizing the range of motion for the bus creates a tree with exponential size, and unfortunately, the bomb will detonate sooner than expected. Therefore, we need an algorithm that can plan a path to the airport, even if suboptimal, in a shorter amount of time. Instead of splitting the sample space into intervals, we consider Rapidly-exploring Random Trees (RRT), to explore the space more efficiently.\n",
    "\n",
    "However, the main issue here is that if we sample a point anywhere in the environment, there is a chance that it is not reachable from the car's current location and pose via a linear path. Also, due to the bus's limited range of motion, we want to accomodate for those kinematics. Therefore, we propose the following pseudocode, which modifies the linear nature of traditional RRT:\n",
    "\n",
    "- Sample randomly from the enviroment\n",
    "- Find the closest point in the tree to the sampled point\n",
    "- Draw a dublin path between the randomly sampled point and the neighboring point\n",
    "    - If it hits an obstacle, then we resample\n",
    "- If there's no obstacle in the way, then we add the sampled point to the tree\n",
    "    - We will have a max length $L$, so we will cut the path off at $L$ if it is longer than $L$, and add the point at which the path is cut off to the tree instead\n",
    "    - Note: the dublin path will essentially be in a 3D space because we have three parameters (x, y, pose)\n"
   ]
  },
  {
   "cell_type": "code",
   "execution_count": null,
   "metadata": {},
   "outputs": [],
   "source": [
    "def rrt(bounds, environment, start_pose, radius, end_region, sample_function,\n",
    "        step_size=0.01, turning_radius = np.pi/20, d=0.5):  \n",
    "    # RRT Helper Functions\n",
    "    \n",
    "    # Check to see if the path collides with an obstacle in the environment\n",
    "    def checkNoCollision(path):\n",
    "        for pose in path:\n",
    "            point = Point(pose[0:2]).buffer(radius, resolution=3)\n",
    "            # print(env.strtree.query(point))\n",
    "            if len(environment.strtree.query(point)) != 0:\n",
    "                return False\n",
    "        return True\n",
    "    \n",
    "    # Finds the closest point that is already in the tree\n",
    "    def nearest_neighbor(vertices, rand):\n",
    "        min_dist = float('inf')\n",
    "        closest_point = None\n",
    "        path_from_closest = None\n",
    "        for v in vertices:\n",
    "            path = dubins.shortest_path(v, rand, turning_radius)\n",
    "            if path.path_length() < min_dist:\n",
    "                closest_point = v\n",
    "                path_from_closest = path\n",
    "                min_dist = path.path_length()\n",
    "        # Return closest neighbor, the path from the closest neighbor to the sample point, and the configuration\n",
    "        return closest_point, path_from_closest\n",
    "    \n",
    "    # Cuts the path off at distance 'd' to limit the size of the branches\n",
    "    def steer(nearest, rand, path, d):\n",
    "        dist = path.path_length()\n",
    "        configuations, _ = path.sample_many(step_size)\n",
    "        if dist < d: # If branch is already < d, then we can return the branch\n",
    "            return configuations\n",
    "        else:\n",
    "            dist_so_far = 0\n",
    "            new_path = [configuations[0]]\n",
    "            # Iterate through the path and cut it off once the distance so far exceeds 'd'\n",
    "            for i in range(len(configuations)-1):\n",
    "                dist_so_far += np.sqrt((configuations[i][0] - configuations[i+1][0])**2 + (configuations[i][1] - configuations[i+1][1])**2)\n",
    "                new_path.append(configuations[i+1])\n",
    "                if dist_so_far >= d:\n",
    "                    return new_path\n",
    "            return new_path\n",
    "        \n",
    "    # Construct the path from the end to the start pose; plot the optimal path down the tree\n",
    "    def construct_path(vertices, edges, end_pt, plot):\n",
    "        path = [end_pt]\n",
    "        path_len = 0\n",
    "        while path[0] != start_pose:\n",
    "            for edge in edges:\n",
    "                if edge[1] == path[0]:\n",
    "                    path = [edge[0]] + path\n",
    "                    branch = dubins.shortest_path(edge[0], edge[1], turning_radius)\n",
    "                    branch_pts, _ = branch.sample_many(step_size)\n",
    "                    path_len += branch.path_length()\n",
    "                    plot.plot([point[0] for point in branch_pts], [point[1] for point in branch_pts],\n",
    "                            color='red', linewidth=2, solid_capstyle='round', zorder=1)\n",
    "                    break\n",
    "        return path, path_len\n",
    "    \n",
    "    # Code to run the RRT algorithm\n",
    "    vertices = {start_pose}\n",
    "    edges = set()\n",
    "    ax = plot_environment(environment)\n",
    "    plot_poly(ax, end_region, \"green\")\n",
    "    while True: \n",
    "        rand_pt = sample_function(bounds, end_region, turning_radius)\n",
    "        nearest, path = nearest_neighbor(vertices, rand_pt)\n",
    "        new_path = steer(nearest, rand_pt, path, d)\n",
    "        new_pt = new_path[-1]\n",
    "        #We use the function from A* Search to check for obstacles\n",
    "        if checkNoCollision(new_path):\n",
    "            vertices.add(new_pt)\n",
    "            edges.add((nearest, new_pt))\n",
    "            ax.plot([point[0] for point in new_path], [point[1] for point in new_path], \n",
    "                            color='gray', linewidth=1, solid_capstyle='round', zorder=1)\n",
    "            if end_region.contains(Point(new_pt[0:2])):\n",
    "                path, path_len = construct_path(vertices, edges, new_pt, ax)\n",
    "                ax.set_title(f\"Nodes in tree: {len(vertices)}, Nodes in solution path: {len(path)}, Path length: {path_len}\")\n",
    "                return path\n",
    "            \n",
    "# Sample a random point within the bounds of the environment\n",
    "def uninformed_sample(bounds, end_region, turning_radius):\n",
    "    rand_pt = (random.uniform(bounds[0], bounds[2]),\n",
    "               random.uniform(bounds[1], bounds[3]),\n",
    "               random.uniform(0, turning_radius * 180/np.pi))\n",
    "    return rand_pt\n",
    "    "
   ]
  },
  {
   "cell_type": "code",
   "execution_count": null,
   "metadata": {},
   "outputs": [],
   "source": [
    "path = print_time(lambda: rrt(bounds, roadmap_env, start, radius, goal_region, uninformed_sample, step_size=0.01, turning_radius = np.pi/20, d=0.5))"
   ]
  },
  {
   "cell_type": "markdown",
   "metadata": {},
   "source": [
    "### Incorporating Goal-directed Sampling"
   ]
  },
  {
   "cell_type": "markdown",
   "metadata": {},
   "source": [
    "Since the autonomous bus has information about the area and knows where the goal state is, we implement a heuristic in the random sampling to find the airport faster. Essentially, with probability $p$, the algorithm will explore a new offshoot of the tree by randomly sampling. With probability $1-p$, the algorithm will sample in the direction and general location of the goal state. This way, we can exploit knowing the goal state while also exploring other parts of the environment."
   ]
  },
  {
   "cell_type": "code",
   "execution_count": null,
   "metadata": {},
   "outputs": [],
   "source": [
    "def RRT_goal_directed(bounds, end_region, turning_radius, p=0.7):\n",
    "    # p = 1 would be the same as the normal RRT implemented above\n",
    "    if random.random() > p:\n",
    "        # Algorithm samples in the goal\n",
    "        minx, miny, maxx, maxy = end_region.bounds\n",
    "        rand_pt = (random.uniform(minx, maxx),\n",
    "                    random.uniform(miny, maxy),\n",
    "                    random.uniform(0, turning_radius * 180/np.pi))\n",
    "    else:\n",
    "        # Standard RRT\n",
    "        rand_pt = (random.uniform(bounds[0], bounds[2]),\n",
    "               random.uniform(bounds[1], bounds[3]),\n",
    "               random.uniform(0, turning_radius * 180/np.pi))\n",
    "    return rand_pt\n",
    "    "
   ]
  },
  {
   "cell_type": "code",
   "execution_count": null,
   "metadata": {},
   "outputs": [],
   "source": [
    "goal_directed_path = print_time(lambda: rrt(bounds, roadmap_env, start, radius, goal_region, RRT_goal_directed,\n",
    "                         step_size=0.01, turning_radius = np.pi/20, d=0.5))"
   ]
  },
  {
   "cell_type": "markdown",
   "metadata": {},
   "source": [
    "## RRT*"
   ]
  },
  {
   "cell_type": "markdown",
   "metadata": {},
   "source": [
    "RRT* is an optimized version of RRT. The main difference is that every time we obtain a new point, we must check to see whether the paths of other nodes can be reduced by going through the new point. If so, we have to update our graph. Like RRT, we will be using the dubin library for path generation. "
   ]
  },
  {
   "cell_type": "code",
   "execution_count": null,
   "metadata": {},
   "outputs": [],
   "source": [
    "def uninformed_sample(bounds, end_region, turning_radius):\n",
    "    # Sample a random point within the bounds of the environment\n",
    "    rand_pt = (random.uniform(bounds[0], bounds[2]),\n",
    "               random.uniform(bounds[1], bounds[3]),\n",
    "               random.uniform(0, turning_radius * 180/np.pi))\n",
    "    return rand_pt\n",
    "\n",
    "def RRT_star(bounds, environment, start_pose, radius, end_region, sample_function, step_size=0.01,\n",
    "        turning_radius = np.pi/20, d=0.5, N=100000):\n",
    "    \"\"\"\n",
    "    Runs like RRT except it considers minimum cost paths and changes tree structure\n",
    "    \"\"\"\n",
    "    print(\"starting program...\\n\")\n",
    "    rad = 0.5\n",
    "    def checkNoCollision(path):\n",
    "        for pose in path:\n",
    "            object = Point(pose[0:2]).buffer(radius, resolution=3)\n",
    "            for obstacle in environment.obstacles:\n",
    "                if object.intersects(obstacle):\n",
    "                    return False\n",
    "        return True\n",
    "    \n",
    "    def nearest_neighbor(vertices, rand):\n",
    "        min_dist = float('inf')\n",
    "        closest_point = None\n",
    "        path_from_closest = None\n",
    "        for v in vertices:\n",
    "            path = dubins.shortest_path(v, rand, turning_radius)\n",
    "            if path.path_length() < min_dist:\n",
    "                closest_point = v\n",
    "                path_from_closest = path\n",
    "                min_dist = path.path_length()\n",
    "        # Return closest neighbor, the path from the closest neighbor to the sample point, and the configuration\n",
    "        return closest_point, path_from_closest\n",
    "    \n",
    "    def steer(nearest, rand, path, d):\n",
    "        dist = path.path_length()\n",
    "        configuations, _ = path.sample_many(step_size)\n",
    "        if dist < d:\n",
    "            return configuations, dist\n",
    "        else:\n",
    "            dist_so_far = 0\n",
    "            new_path = [configuations[0]]\n",
    "            for i in range(len(configuations)-1):\n",
    "                dist_so_far += np.sqrt((configuations[i][0] - configuations[i+1][0])**2 + (configuations[i][1] - configuations[i+1][1])**2)\n",
    "                new_path.append(configuations[i+1])\n",
    "                if dist_so_far >= d:\n",
    "                    return new_path, dist_so_far\n",
    "            return new_path, dist_so_far\n",
    "    \n",
    "    def get_neighbors(vertices, x_new, rad, min_dist, nearest):\n",
    "        neighbors = []\n",
    "        best = nearest\n",
    "        for v in vertices:\n",
    "            path = dubins.shortest_path(v, x_new, turning_radius)\n",
    "            if path.path_length() < rad:\n",
    "                neighbors.append(v)\n",
    "                if path.path_length() < min_dist:\n",
    "                    best = v\n",
    "                    min_dist = path.path_length()\n",
    "        return neighbors\n",
    "    def construct_path(parent, end_pt):\n",
    "        # TODO: have it create path with parent dictionary not\n",
    "        path = [end_pt]\n",
    "        while path[0] != start_pose:\n",
    "            path = [parent[path[0]]] + path\n",
    "             branch = dubins.shortest_path(edge[0], edge[1], turning_radius)\n",
    "                 branch_pts, _ = branch.sample_many(step_size)\n",
    "                    path_len += branch.path_length()\n",
    "                    plot.plot([point[0] for point in branch_pts], [point[1] for point in branch_pts],\n",
    "                            color='red', linewidth=2, solid_capstyle='round', zorder=1)\n",
    "        return path\n",
    "    \n",
    "    vertices = {start_pose}        # holds all vertices (x, y, rad)\n",
    "    edges = set()                  # set of tuples: (start, end)\n",
    "    cost = {start_pose: 0}         # distance each vertex has traveled relative to parent vertex\n",
    "#     parent = {start_pose: None}    # maps each vertex to its parent vertex\n",
    "    parent = {start_pose: None}\n",
    "    ax = plot_environment(environment)\n",
    "    plot_poly(ax, end_region, \"green\")\n",
    "    \n",
    "    for i in range(N):\n",
    "        rand_pt = sample_function(bounds, end_region, turning_radius)\n",
    "        nearest, path = nearest_neighbor(vertices, rand_pt)\n",
    "        new_path, dist = steer(nearest, rand_pt, path, d)\n",
    "        new_pt = new_path[-1]\n",
    "        if checkNoCollision(new_path):\n",
    "            vertices.add(new_pt)\n",
    "            ax.plot([nearest[0], new_pt[0]], [nearest[1], new_pt[1]], \n",
    "                            color='gray', linewidth=1, solid_capstyle='round', zorder=1)\n",
    "            cost[new_pt] = dist        # distance from new_pt to parent vertex (nearest)\n",
    "            parent[new_pt] = nearest   # set parent node to be nearest vertex to new_pt\n",
    "            x_neighbors = get_neighbors(vertices, new_pt, rad, dist, nearest)\n",
    "            # reshape the tree\n",
    "            for x_prime in x_neighbors:\n",
    "                path_prime = dubins.shortest_path(x_prime, new_pt, turning_radius)\n",
    "                configuations, _ = path_prime.sample_many(step_size)\n",
    "                if checkNoCollision(configuations):\n",
    "                    if cost[new_pt] + path_prime.path_length() < cost[x_prime]:\n",
    "                        cost[x_prime] = cost[new_pt] + path_prime.path_length()\n",
    "                        parent[x_prime] = new_pt\n",
    "                        # plot the line\n",
    "                        ax.plot([x_prime[0], new_pt[0]], [x_prime[1], new_pt[1]], \n",
    "                                color='gray', linewidth=1, solid_capstyle='round', zorder=1)\n",
    "                    \n",
    "            # check if point hit the goal \n",
    "            if end_region.contains(Point(new_pt[0:2])):\n",
    "                print(\"goal reached\\n\")\n",
    "                path = construct_path(parent, new_pt)\n",
    "#                 path_len = 0\n",
    "#                 for i in range(len(path)-1):\n",
    "#                     ax.plot([path[i][0], path[i+1][0]], [path[i][1], path[i+1][1]],\n",
    "#                             color='red', linewidth=1, solid_capstyle='round', zorder=1)\n",
    "#                     path_len += np.sqrt((path[i][0]-path[i+1][0])**2 + (path[i][1]-path[i+1][1])**2)\n",
    "                ax.set_title(f\"Nodes in tree: {len(vertices)}, Nodes in solution path: {len(path)}, Path length: {path_len}\")\n",
    "                return path\n",
    "                    \n",
    "        # x_rand = random point\n",
    "        # use dubins to generate path between x_rand and bus\n",
    "        \n",
    "        # connect along minimum cost path\n",
    "        \n",
    "        # rewire the tree if paths with lower costs exist\n",
    "        "
   ]
  },
  {
   "cell_type": "code",
   "execution_count": null,
   "metadata": {},
   "outputs": [],
   "source": [
    "path = RRT_star(bounds, roadmap_env, start, radius, goal_region, uninformed_sample, step_size=0.01, turning_radius = np.pi/20, d=0.5)"
   ]
  },
  {
   "cell_type": "code",
   "execution_count": null,
   "metadata": {},
   "outputs": [],
   "source": []
  },
  {
   "cell_type": "code",
   "execution_count": null,
   "metadata": {},
   "outputs": [],
   "source": []
  }
 ],
 "metadata": {
  "kernelspec": {
   "display_name": "Python 3",
   "language": "python",
   "name": "python3"
  },
  "language_info": {
   "codemirror_mode": {
    "name": "ipython",
    "version": 3
   },
   "file_extension": ".py",
   "mimetype": "text/x-python",
   "name": "python",
   "nbconvert_exporter": "python",
   "pygments_lexer": "ipython3",
   "version": "3.7.10"
  }
 },
 "nbformat": 4,
 "nbformat_minor": 4
}
